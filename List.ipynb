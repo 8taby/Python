{
 "cells": [
  {
   "cell_type": "code",
   "execution_count": 1,
   "metadata": {},
   "outputs": [
    {
     "name": "stdout",
     "output_type": "stream",
     "text": [
      "결과 문자열은 ['4', '1', '5', '9', '2', '6', '5', '3', '5', '8']입니다.\n"
     ]
    }
   ],
   "source": [
    "s=list(input('문자열을 입력하세요:'))\n",
    "a=int(input('시작할 지점을 선택하세요:'))\n",
    "c=len(s)\n",
    "\n",
    "if a>c:\n",
    "  print('적절하지 않은 시작점입니다.')\n",
    "\n",
    "b=int(input('시작점에서 몇 개의 문자를 선택할까요?:'))\n",
    "t=a+b-1\n",
    "\n",
    "if a==c:\n",
    "  if b==1:\n",
    "    result=s[a-1:]\n",
    "    print('결과 문자열은 {0}입니다.'.format(result))\n",
    "  else:\n",
    "    result=s[a-1:]\n",
    "    short=str(b-1)\n",
    "    print('결과 문자열은 {0}입니다.'.format(result))\n",
    "    print('선택할 문자의 개수가 {0}개 부족합니다.'.format(short))\n",
    "else:\n",
    "  if t<=c:\n",
    "    result=s[a-1:t]\n",
    "    print('결과 문자열은 {0}입니다.'.format(result))\n",
    "  else:\n",
    "    result=s[a-1:]\n",
    "    short=str(t-c)\n",
    "    print('결과 문자열은 {0}입니다.'.format(result))\n",
    "    print('선택할 문자의 개수가 {0}개 부족합니다.'.format(short))"
   ]
  }
 ],
 "metadata": {
  "interpreter": {
   "hash": "5d240ba0dc525c389faa33f5dcce5b4f32b6d6aa6d70d6d2dd929bd2b09ab69f"
  },
  "kernelspec": {
   "display_name": "Python 3.10.2 64-bit",
   "language": "python",
   "name": "python3"
  },
  "language_info": {
   "codemirror_mode": {
    "name": "ipython",
    "version": 3
   },
   "file_extension": ".py",
   "mimetype": "text/x-python",
   "name": "python",
   "nbconvert_exporter": "python",
   "pygments_lexer": "ipython3",
   "version": "3.10.2"
  },
  "orig_nbformat": 4
 },
 "nbformat": 4,
 "nbformat_minor": 2
}
